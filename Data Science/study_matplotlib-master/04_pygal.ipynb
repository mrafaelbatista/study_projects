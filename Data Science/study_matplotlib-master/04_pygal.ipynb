{
 "cells": [
  {
   "cell_type": "markdown",
   "metadata": {},
   "source": [
    "# Pygal"
   ]
  },
  {
   "cell_type": "markdown",
   "metadata": {},
   "source": [
    "O pacote pygal é utilizado para produzir gráficos vetoriais escaláveis. Uteis quando a visualização pode ser feita em tamanhos de telas diferentes. Eles automaticamente se ajustam ao tamanho adequado."
   ]
  },
  {
   "cell_type": "code",
   "execution_count": 1,
   "metadata": {},
   "outputs": [],
   "source": [
    "# Criando classe Die\n",
    "\n",
    "from random import randint\n",
    "\n",
    "class Die():\n",
    "    \"\"\"Classe que representa um único dado\"\"\"\n",
    "    \n",
    "    def __init__(self, num_sides=6):\n",
    "        self.num_sides = num_sides\n",
    "        \n",
    "    def roll(self):\n",
    "        return randint(1, self.num_sides)"
   ]
  },
  {
   "cell_type": "code",
   "execution_count": 3,
   "metadata": {},
   "outputs": [],
   "source": [
    "# Lançando o dado\n",
    "# Em outros editores é necessário importa a classe com o comando abaixo\n",
    "# from die import Die\n",
    "\n",
    "die = Die()"
   ]
  },
  {
   "cell_type": "code",
   "execution_count": 8,
   "metadata": {},
   "outputs": [],
   "source": [
    "# Faz alguns lançamentos e armazena em uma lista\n",
    "results = []\n",
    "\n",
    "for roll_num in range(10000):\n",
    "    result = die.roll()\n",
    "    results.append(result)\n",
    "    \n",
    "#print(results)"
   ]
  },
  {
   "cell_type": "code",
   "execution_count": 9,
   "metadata": {},
   "outputs": [
    {
     "name": "stdout",
     "output_type": "stream",
     "text": [
      "[1670, 1609, 1703, 1639, 1698, 1681]\n"
     ]
    }
   ],
   "source": [
    "# Analisando os resultados\n",
    "\n",
    "frequencies = []\n",
    "for value in range(1, die.num_sides+1):\n",
    "    frequency = results.count(value)\n",
    "    frequencies.append(frequency)\n",
    "\n",
    "print(frequencies)"
   ]
  },
  {
   "cell_type": "code",
   "execution_count": 10,
   "metadata": {},
   "outputs": [],
   "source": [
    "# Visualizar os resultados\n",
    "import pygal\n",
    "\n",
    "hist = pygal.Bar()\n",
    "\n",
    "hist.title = \"Results of rolling one D6 10000 times\"\n",
    "hist.x_title = \"Result\"\n",
    "hist.y_title = \"Frequency of Result\"\n",
    "\n",
    "hist.add('D6', frequencies)\n",
    "hist.render_to_file('die_visual.svg')"
   ]
  },
  {
   "cell_type": "code",
   "execution_count": 12,
   "metadata": {},
   "outputs": [],
   "source": [
    "# Lançando dois dados\n",
    "\n",
    "# Criando dois dados\n",
    "\n",
    "die_1 = Die()\n",
    "die_2 = Die()\n",
    "\n",
    "# Faz alguns lançamentos e armazena em uma lista\n",
    "results = []\n",
    "\n",
    "for roll_num in range(10000):\n",
    "    result = die_1.roll() + die_2.roll()\n",
    "    results.append(result)\n",
    "    \n",
    "# Analisando os resultados\n",
    "frequencies = []\n",
    "\n",
    "max_results = die_1.num_sides + die_2.num_sides\n",
    "\n",
    "for value in range(2, max_results+1):\n",
    "    frequency = results.count(value)\n",
    "    frequencies.append(frequency)\n",
    "\n",
    "# Visualizar os resultados\n",
    "import pygal\n",
    "\n",
    "hist = pygal.Bar()\n",
    "\n",
    "hist.title = \"Results of rolling two D6 10000 times\"\n",
    "hist.x_labels = ['2', '3', '4', '5', '6', '7', '8', '9', '10', '11', '12']\n",
    "hist.x_title = \"Result\"\n",
    "hist.y_title = \"Frequency of Result\"\n",
    "\n",
    "hist.add('D6 + D6', frequencies)\n",
    "hist.render_to_file('die_visual_two.svg')"
   ]
  },
  {
   "cell_type": "code",
   "execution_count": 13,
   "metadata": {},
   "outputs": [],
   "source": [
    "# Lançando dois dados de tamanhos diferentes\n",
    "\n",
    "# Criando dois dados\n",
    "\n",
    "die_1 = Die()\n",
    "die_2 = Die(10)\n",
    "\n",
    "# Faz alguns lançamentos e armazena em uma lista\n",
    "results = []\n",
    "\n",
    "for roll_num in range(50000):\n",
    "    result = die_1.roll() + die_2.roll()\n",
    "    results.append(result)\n",
    "    \n",
    "# Analisando os resultados\n",
    "frequencies = []\n",
    "\n",
    "max_results = die_1.num_sides + die_2.num_sides\n",
    "\n",
    "for value in range(2, max_results+1):\n",
    "    frequency = results.count(value)\n",
    "    frequencies.append(frequency)\n",
    "\n",
    "# Visualizar os resultados\n",
    "import pygal\n",
    "\n",
    "hist = pygal.Bar()\n",
    "\n",
    "hist.title = \"Results of rolling D6 and D10 50.000 times\"\n",
    "hist.x_labels = ['2', '3', '4', '5', '6', '7', '8', '9', '10', '11', '12', '13', '14', '15', '16']\n",
    "hist.x_title = \"Result\"\n",
    "hist.y_title = \"Frequency of Result\"\n",
    "\n",
    "hist.add('D6 + D10', frequencies)\n",
    "hist.render_to_file('die_visual_diference.svg')"
   ]
  }
 ],
 "metadata": {
  "kernelspec": {
   "display_name": "Python 3",
   "language": "python",
   "name": "python3"
  },
  "language_info": {
   "codemirror_mode": {
    "name": "ipython",
    "version": 3
   },
   "file_extension": ".py",
   "mimetype": "text/x-python",
   "name": "python",
   "nbconvert_exporter": "python",
   "pygments_lexer": "ipython3",
   "version": "3.7.5"
  }
 },
 "nbformat": 4,
 "nbformat_minor": 4
}
